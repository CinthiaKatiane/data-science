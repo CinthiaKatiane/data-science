{
 "cells": [
  {
   "cell_type": "code",
   "execution_count": 2,
   "metadata": {},
   "outputs": [],
   "source": [
    "import re\n",
    "import pandas as pd"
   ]
  },
  {
   "cell_type": "code",
   "execution_count": 3,
   "metadata": {},
   "outputs": [],
   "source": [
    "#leitura e uniao das proposicoes do atual mandato (2015-2016-2017-2018)\n",
    "url_proposicoes = [\n",
    "    'https://dadosabertos.camara.leg.br/arquivos/proposicoes/csv/proposicoes-2015.csv',\n",
    "    'https://dadosabertos.camara.leg.br/arquivos/proposicoes/csv/proposicoes-2016.csv',\n",
    "    'https://dadosabertos.camara.leg.br/arquivos/proposicoes/csv/proposicoes-2017.csv',\n",
    "    'https://dadosabertos.camara.leg.br/arquivos/proposicoes/csv/proposicoes-2018.csv'\n",
    "]\n",
    "df_proposicoes = pd.concat([pd.read_csv(url, sep=';') for url in url_proposicoes])"
   ]
  },
  {
   "cell_type": "code",
   "execution_count": 3,
   "metadata": {},
   "outputs": [],
   "source": [
    "#parser de colunas (camelCase para snake_case)\n",
    "def convert(name):\n",
    "    s1 = re.sub('(.)([A-Z][a-z]+)', r'\\1_\\2', name)\n",
    "    return re.sub('([a-z0-9])([A-Z])', r'\\1_\\2', s1).lower()\n",
    "\n",
    "#alterando o formato das colunas\n",
    "#df_proposicoes.columns = [convert(column.split('ultimoStatus_')[-1]) for column in df_proposicoes.columns]"
   ]
  },
  {
   "cell_type": "code",
   "execution_count": 4,
   "metadata": {},
   "outputs": [],
   "source": [
    "#salvando o csv de proposicoes\n",
    "df_proposicoes.to_csv('proposicoes.csv', encoding='utf-8-sig')"
   ]
  },
  {
   "cell_type": "code",
   "execution_count": 5,
   "metadata": {},
   "outputs": [],
   "source": [
    "#leitura e uniao dos autores (2015-2016-2017-2018)\n",
    "url_autores = [\n",
    "    'https://dadosabertos.camara.leg.br/arquivos/proposicoesAutores/csv/proposicoesAutores-2015.csv',\n",
    "    'https://dadosabertos.camara.leg.br/arquivos/proposicoesAutores/csv/proposicoesAutores-2016.csv',\n",
    "    'https://dadosabertos.camara.leg.br/arquivos/proposicoesAutores/csv/proposicoesAutores-2017.csv',\n",
    "    'https://dadosabertos.camara.leg.br/arquivos/proposicoesAutores/csv/proposicoesAutores-2018.csv',\n",
    "]\n",
    "\n",
    "df_autores = pd.concat([pd.read_csv(url, sep=';') for url in url_autores])"
   ]
  },
  {
   "cell_type": "code",
   "execution_count": 6,
   "metadata": {},
   "outputs": [],
   "source": [
    "#df_autores.columns = [convert(column) for column in df_autores.columns]"
   ]
  },
  {
   "cell_type": "code",
   "execution_count": 7,
   "metadata": {},
   "outputs": [],
   "source": [
    "#salvando o csv de autores\n",
    "df_autores.to_csv('autores.csv', encoding='utf-8-sig')"
   ]
  },
  {
   "cell_type": "code",
   "execution_count": 8,
   "metadata": {},
   "outputs": [],
   "source": [
    "#leitura dos deputados\n",
    "deputados_url = 'https://dadosabertos.camara.leg.br/arquivos/deputados/csv/deputados.csv'\n",
    "df_deputados = pd.read_csv(deputados_url, sep=';')"
   ]
  },
  {
   "cell_type": "code",
   "execution_count": 10,
   "metadata": {},
   "outputs": [],
   "source": [
    "#df_deputados.columns = [convert(column) for column in df_deputados.columns]"
   ]
  },
  {
   "cell_type": "code",
   "execution_count": 11,
   "metadata": {},
   "outputs": [],
   "source": [
    "#salvando o csv de autores\n",
    "df_deputados.to_csv('deputados.csv', encoding='utf-8-sig')"
   ]
  }
 ],
 "metadata": {
  "kernelspec": {
   "display_name": "Python 3",
   "language": "python",
   "name": "python3"
  },
  "language_info": {
   "codemirror_mode": {
    "name": "ipython",
    "version": 3
   },
   "file_extension": ".py",
   "mimetype": "text/x-python",
   "name": "python",
   "nbconvert_exporter": "python",
   "pygments_lexer": "ipython3",
   "version": "3.6.5"
  }
 },
 "nbformat": 4,
 "nbformat_minor": 2
}
