{
 "cells": [
  {
   "cell_type": "markdown",
   "metadata": {},
   "source": [
    "# Ciência de Dados\n",
    "\n",
    "### Grupo: Ailton Santos, Allan Gonçalves, Cinthia Katiane, Welligton Miguel"
   ]
  },
  {
   "cell_type": "markdown",
   "metadata": {},
   "source": [
    "Esse notebook faz análise dos dados do cenário político brasileiro, e tem como fonte de informação os dados abertos da câmara, disponível em https://dadosabertos.camara.leg.br. Os datasets utilizados aqui foram tratados e concatenados previamente para atender requisitos do trabalho, mas o script para isso está disponível no repo do GitHub. Para mais informações leia o README do projeto."
   ]
  },
  {
   "cell_type": "markdown",
   "metadata": {},
   "source": [
    "## 1. Primeiros Passos \n",
    "#### Fácil\n",
    "\n",
    "O ano de 2018 é um ano de eleições no Brasil e os eleitores podem usar muitas alternativas para escolher em quem vão votar, uma dessas alternativas é verificar a produtividade de um determinado político. Então é isso que vamos fazer nesse notebook. O primeiro passo é fazer o upload dos arquivos `proposicoes.csv`,`autores.csv` e `deputados.csv`, pois vamos usa-los em breve. \n",
    "\n",
    "Começe importando a biblioteca pandas e lendo o arquivo `proposicoes.csv`. Faça isso usando a função `read_csv()` do pandas. Em seguida liste as colunas desse dataframe.\n",
    "\n",
    "Quando tiver feito isso, execute a linha inferior e a função `head()` permitirá que você veja uma amostra dos dados desse dataframe, dê uma olhada nas informações de cada coluna e então vá para o próximo exercício."
   ]
  },
  {
   "cell_type": "code",
   "execution_count": null,
   "metadata": {},
   "outputs": [],
   "source": [
    "from google.colab import files\n",
    "uploaded = files.upload()\n",
    "for fn in uploaded.keys():\n",
    "  print('User uploaded file \"{name}\" with length {length} bytes'.format(\n",
    "      name=fn, length=len(uploaded[fn])))"
   ]
  },
  {
   "cell_type": "code",
   "execution_count": null,
   "metadata": {
    "colab": {},
    "colab_type": "code",
    "id": "Dlk0X-svvAJ3"
   },
   "outputs": [],
   "source": [
    "import re\n",
    "import pandas as pd"
   ]
  },
  {
   "cell_type": "code",
   "execution_count": null,
   "metadata": {},
   "outputs": [],
   "source": [
    "# Coloque seu codigo aqui\n",
    "\n",
    "df_proposicoes = pd.read_csv('proposicoes.csv', encoding='utf-8')\n",
    "\n",
    "print(df_proposicoes.columns)"
   ]
  },
  {
   "cell_type": "code",
   "execution_count": null,
   "metadata": {
    "colab": {
     "base_uri": "https://localhost:8080/",
     "height": 559
    },
    "colab_type": "code",
    "id": "t3EVoi8OvAKP",
    "outputId": "9d480e43-28cb-48e7-da46-5667a521cb38"
   },
   "outputs": [],
   "source": [
    "df_proposicoes.head()"
   ]
  },
  {
   "cell_type": "markdown",
   "metadata": {},
   "source": [
    "## 2. Formatando Colunas\n",
    "#### Médio\n",
    "\n",
    "Sabemos que um dos pontos fundamentais para que seja possível efetuar uma boa análise é o tratamento dos dados, desta forma, iremos padronizar as colunas em nosso dataset. Vemos que ele segue uma mistura nos parões CamelCase e snake_case, sendo assim, iremos torná-lo apenas snake_case.\n",
    "\n",
    "Desta forma deve ser realizado:\n",
    "1° Conversão de todas as colunas que se encontram no estilo camelCase para snake_case.\n",
    "\n",
    "2° Remover das colunas o nome `ultimo_status_`."
   ]
  },
  {
   "cell_type": "code",
   "execution_count": null,
   "metadata": {},
   "outputs": [],
   "source": [
    "# Coloque seu codigo aqui\n",
    "\n",
    "#Forma 1\n",
    "def convert(name):\n",
    "    s1 = re.sub('(.)([A-Z][a-z]+)', r'\\1_\\2', name)\n",
    "    return re.sub('([a-z0-9])([A-Z])', r'\\1_\\2', s1).lower()\n",
    "\n",
    "#alterando o formato das colunas\n",
    "df_proposicoes.columns = [convert(column.split('ultimoStatus_')[-1]) for column in df_proposicoes.columns]\n",
    "\n",
    "\n",
    "#Forma 2\n",
    "def convert(name):\n",
    "    s1 = re.sub('(.)([A-Z][a-z]+)', r'\\1_\\2', name)\n",
    "    return re.sub('([a-z0-9])([A-Z])', r'\\1_\\2', s1).lower()\n",
    "\n",
    "#alterando o formato das colunas\n",
    "df_proposicoes.columns = [convert(column) for column in df_proposicoes.columns]\n",
    "df_proposicoes.columns = df_proposicoes.columns.str.replace(\"ultimo_status_\",\"\")"
   ]
  },
  {
   "cell_type": "code",
   "execution_count": null,
   "metadata": {},
   "outputs": [],
   "source": [
    "df_proposicoes.columns"
   ]
  },
  {
   "cell_type": "markdown",
   "metadata": {},
   "source": [
    "### 3. Removendo linhas desnecessárias\n",
    "#### Fácil\n",
    "\n",
    "Esse dataset possui muitas colunas, muitas mesmo, e boa parte delas não será útil para a nossa análise. Use a função `drop()` para remover as seguintes colunas:\n",
    "\n",
    "`'id_tipo',\n",
    " 'id_orgao',\n",
    " 'sigla_orgao',\n",
    " 'uri_orgao',\n",
    " 'descricao_tramitacao',\n",
    " 'id_tipo_tramitacao',\n",
    " 'id_situacao',\n",
    " 'data_apresentacao',\n",
    " 'uri_prop_posterior',\n",
    " 'url_inteiro_teor',\n",
    " 'urn_final',\n",
    " 'sequencia',\n",
    " 'uri_relator',\n",
    " 'uri_prop_principal',\n",
    " 'uri_prop_anterior',\n",
    " 'uri_orgao_numerador',\n",
    " 'uri'`\n",
    " \n",
    " Em seguida use a função `head()` novamente e veja como ficou o dataframe."
   ]
  },
  {
   "cell_type": "code",
   "execution_count": null,
   "metadata": {
    "colab": {
     "base_uri": "https://localhost:8080/",
     "height": 5389
    },
    "colab_type": "code",
    "id": "x-TuEdbdvAKd",
    "outputId": "62b45751-4dab-4e60-df11-112fbd9cd020"
   },
   "outputs": [],
   "source": [
    "df_proposicoes = df_proposicoes.drop([\n",
    "    'id_tipo',\n",
    "    'id_orgao',\n",
    "    'sigla_orgao',\n",
    "    'uri_orgao',\n",
    "    'descricao_tramitacao',\n",
    "    'id_tipo_tramitacao',\n",
    "    'id_situacao',\n",
    "    'data_apresentacao',\n",
    "    'uri_prop_posterior',\n",
    "    'url_inteiro_teor',\n",
    "    'urn_final',\n",
    "    'sequencia',\n",
    "    'uri_relator',\n",
    "    'uri_prop_principal',\n",
    "    'uri_prop_anterior',\n",
    "    'uri_orgao_numerador',\n",
    "    'uri',\n",
    "], axis=1)\n",
    "df_proposicoes.head()"
   ]
  },
  {
   "cell_type": "markdown",
   "metadata": {},
   "source": [
    "## Métricas de Análise\n",
    "\n",
    "Agora que já efetuamos a padronização de colunas, onde possuimos apenas as informações necessárias para nossa análise, iremos partir para as estratégias, ou métricas(se preferir)\n",
    "\n",
    "Com elas iremos ter um alvo a atingir, seja qual deputado possui mais proposições até quantas proposições estão com situação \"prontas para pauta\".\n",
    "\n",
    "Sendo assim, hora de partir para a coleta..."
   ]
  },
  {
   "cell_type": "markdown",
   "metadata": {},
   "source": [
    "## 3. Métricas Quantitativas\n",
    "#### Médio\n",
    "\n",
    "Atualmente carregamos o csv contendo todas as proposições entre 2015 à 2018, desta forma faremos a seguinte análise:\n",
    "\n",
    "1. Identificar todas as proposições do tipo PL e adicionar a variável `pl_proposicoes`\n",
    "2. Após efetuada a separação das proposições do tipo PL, deveremos efetuar uma contagem de quantas PL foram realizadas em seus respectivos anos, com isso, deveremos adicionar o resultado a um dicionário `dict_pl_propocicoes_anos` onde o ano será a chave e a quantidade o valor"
   ]
  },
  {
   "cell_type": "code",
   "execution_count": null,
   "metadata": {
    "colab": {
     "base_uri": "https://localhost:8080/",
     "height": 51
    },
    "colab_type": "code",
    "id": "ibiDk4v5vAKU",
    "outputId": "0374418b-4f40-40a0-868b-a5039f475af4"
   },
   "outputs": [],
   "source": [
    "df_proposicoes"
   ]
  },
  {
   "cell_type": "code",
   "execution_count": null,
   "metadata": {},
   "outputs": [],
   "source": []
  },
  {
   "cell_type": "code",
   "execution_count": null,
   "metadata": {
    "colab": {
     "base_uri": "https://localhost:8080/",
     "height": 34
    },
    "colab_type": "code",
    "id": "GX3NhJZ5vAKh",
    "outputId": "2a7b5932-dffa-485b-fb96-69aee9c3d5ff"
   },
   "outputs": [],
   "source": [
    "df_proposicoes['id'].count()"
   ]
  },
  {
   "cell_type": "markdown",
   "metadata": {
    "colab_type": "text",
    "id": "wyx4r22IvAKm"
   },
   "source": [
    "## 4. Descobrindo os autores pt.1\n",
    "#### Fácil\n",
    "\n",
    "Agora que temos o dataframe com os projetos de lei, vamos descobrir que foram os autores desses projetos. Para isso vamos ... \n",
    "\n",
    "1. Ler o arquivo `autores.csv`\n",
    "2. Use `head()` para ver uma amostra dos dados desse dataframe\n",
    "3. Remova as colunas `'uri_proposicao'`,`'uri_partido_autor'` e `'id_autor'` desse dataframe\n",
    "\n",
    "#Precisa explicar melhor !!!!!!!!!!!!!!!!! "
   ]
  },
  {
   "cell_type": "code",
   "execution_count": null,
   "metadata": {
    "colab": {},
    "colab_type": "code",
    "id": "gK26HsxNvAKs"
   },
   "outputs": [],
   "source": [
    "df_autores = pd.read_csv('autores.csv', encoding = 'utf-8') "
   ]
  },
  {
   "cell_type": "code",
   "execution_count": null,
   "metadata": {
    "colab": {
     "base_uri": "https://localhost:8080/",
     "height": 411
    },
    "colab_type": "code",
    "id": "00v53js1vAKw",
    "outputId": "ee0e9c49-54c1-4074-9e6e-144f858c6b6e"
   },
   "outputs": [],
   "source": [
    "df_autores.head()"
   ]
  },
  {
   "cell_type": "code",
   "execution_count": null,
   "metadata": {
    "colab": {
     "base_uri": "https://localhost:8080/",
     "height": 3380
    },
    "colab_type": "code",
    "id": "w9oxhNItvAK7",
    "outputId": "97288117-c6b2-49cc-c830-bc8ab94157ee"
   },
   "outputs": [],
   "source": [
    "df_autores = df_autores.drop([\n",
    "    'uri_proposicao',\n",
    "    'uri_partido_autor',\n",
    "    'id_autor',\n",
    "], axis=1)\n",
    "df_autores"
   ]
  },
  {
   "cell_type": "markdown",
   "metadata": {
    "colab_type": "text",
    "id": "wyx4r22IvAKm"
   },
   "source": [
    "## 5. Descobrindo os autores pt.2\n",
    "#### Médio\n",
    "\n",
    "\n",
    "#Precisa explicar melhor !!!!!!!!!!!!!!!!! "
   ]
  },
  {
   "cell_type": "markdown",
   "metadata": {
    "colab_type": "text",
    "id": "NDkTrxZwvALA"
   },
   "source": [
    "### Filtrando proposições para encontrar apenas as que contém apenas deputados como autores\n",
    "Ao realizar a filtragem, as colunas ***cod_tipo_autor*** e ***tipo_autor*** tornaram-se desnecessárias, visto que só continham um único valor"
   ]
  },
  {
   "cell_type": "code",
   "execution_count": null,
   "metadata": {
    "colab": {
     "base_uri": "https://localhost:8080/",
     "height": 1969
    },
    "colab_type": "code",
    "id": "iczg-BaovALA",
    "outputId": "ba8a33ee-bafb-4833-b6a7-f33f4339b92f"
   },
   "outputs": [],
   "source": [
    "df_autores = df_autores[df_autores['cod_tipo_autor'] == 10000]\n",
    "#df_autores.drop(['cod_tipo_autor', 'tipo_autor'], axis=1)\n",
    "df_autores"
   ]
  },
  {
   "cell_type": "markdown",
   "metadata": {},
   "source": [
    "## Bônus \n",
    "\n",
    "Verifique os deputados do nosso estado.\n",
    "\n",
    "User `value_counts()` para verificar quantas vezes cada um deles aparece."
   ]
  },
  {
   "cell_type": "code",
   "execution_count": null,
   "metadata": {
    "colab": {
     "base_uri": "https://localhost:8080/",
     "height": 170
    },
    "colab_type": "code",
    "id": "guxXOZquvALG",
    "outputId": "62772d63-3728-46b8-88ac-7adf53701124"
   },
   "outputs": [],
   "source": [
    "df_autores[df_autores['sigla_uf_autor'] == 'RN']['nome_autor'].value_counts()"
   ]
  },
  {
   "cell_type": "markdown",
   "metadata": {},
   "source": [
    "# Continuar ..."
   ]
  },
  {
   "cell_type": "code",
   "execution_count": null,
   "metadata": {
    "colab": {},
    "colab_type": "code",
    "id": "oiKwL8ycvAKZ"
   },
   "outputs": [],
   "source": [
    "df_deputados = pd.read_csv('deputados.csv', encoding = 'utf-8') "
   ]
  },
  {
   "cell_type": "code",
   "execution_count": null,
   "metadata": {
    "colab": {
     "base_uri": "https://localhost:8080/",
     "height": 1969
    },
    "colab_type": "code",
    "id": "69xROJl0vALP",
    "outputId": "be45090b-eb34-4011-d9f2-4ae1d9124856"
   },
   "outputs": [],
   "source": [
    "df_deputados = df_deputados[['uri', 'nomeCivil', 'siglaSexo', 'dataNascimento', 'ufNascimento']]\n",
    "df_deputados"
   ]
  },
  {
   "cell_type": "markdown",
   "metadata": {
    "colab_type": "text",
    "id": "kuWjhezAvALT"
   },
   "source": [
    "### Merge dos DataFrames de Autores e Deputados para coletar algumas informações que possam ser úteis, como:\n",
    "_UF de Nascimento do Candidato, Data de Nascimento, Nome Completo, Sexo_"
   ]
  },
  {
   "cell_type": "code",
   "execution_count": null,
   "metadata": {
    "colab": {
     "base_uri": "https://localhost:8080/",
     "height": 4114
    },
    "colab_type": "code",
    "id": "K602TpLyvALT",
    "outputId": "04489ae2-9a68-4c3d-b569-51e99c2168a3"
   },
   "outputs": [],
   "source": [
    "result = pd.merge(df_autores, df_deputados, left_on='uri_autor', right_on='uri', how='left')\n",
    "result"
   ]
  },
  {
   "cell_type": "code",
   "execution_count": null,
   "metadata": {
    "colab": {},
    "colab_type": "code",
    "id": "urdi-6Y_vALX"
   },
   "outputs": [],
   "source": [
    "result = result.drop(['uri_autor', 'uri'], axis=1)"
   ]
  },
  {
   "cell_type": "markdown",
   "metadata": {
    "colab_type": "text",
    "id": "gkD8PEr_zrVX"
   },
   "source": [
    "### Verificando se todas as proposições contém um autor que possa ser referenciado no DataFrame de autores"
   ]
  },
  {
   "cell_type": "code",
   "execution_count": null,
   "metadata": {
    "colab": {
     "base_uri": "https://localhost:8080/",
     "height": 34
    },
    "colab_type": "code",
    "id": "uwBP4Z4vvALa",
    "outputId": "b6209732-2e4d-426e-973b-9c10073848e5"
   },
   "outputs": [],
   "source": [
    "df['id'].count() == df[df['id'].isin(result['id_proposicao'])]['id'].count()"
   ]
  },
  {
   "cell_type": "markdown",
   "metadata": {
    "colab_type": "text",
    "id": "lT08zrazvALd"
   },
   "source": [
    "### Existem propostas que não contém um autor associado, vocês acham que devemos exclui-las?\n",
    "_Se sim, descomentem o código abaixo_"
   ]
  },
  {
   "cell_type": "code",
   "execution_count": null,
   "metadata": {
    "colab": {
     "base_uri": "https://localhost:8080/",
     "height": 5338
    },
    "colab_type": "code",
    "id": "rIniTJmBvALe",
    "outputId": "3bc4a78e-cf28-4373-f25f-f8cacffef113"
   },
   "outputs": [],
   "source": [
    "# df = df[df['id'].isin(df_autores['id_proposicao'])]\n",
    "# df"
   ]
  },
  {
   "cell_type": "markdown",
   "metadata": {
    "colab_type": "text",
    "id": "1zUWfuLivALg"
   },
   "source": [
    "### Comparação entre os horríveis"
   ]
  },
  {
   "cell_type": "code",
   "execution_count": null,
   "metadata": {
    "colab": {},
    "colab_type": "code",
    "id": "RSR0520RvALj"
   },
   "outputs": [],
   "source": [
    "prop_com_nome = df.merge(df_autores[['id_proposicao', 'nome_autor']], left_on='id', right_on='id_proposicao')"
   ]
  },
  {
   "cell_type": "code",
   "execution_count": null,
   "metadata": {
    "colab": {
     "base_uri": "https://localhost:8080/",
     "height": 51
    },
    "colab_type": "code",
    "id": "pZVtt1DYvALm",
    "outputId": "d1266410-a6fb-4d5a-f7a4-cbfe1307999f"
   },
   "outputs": [],
   "source": [
    "print('BOLSONARO: {}'.format(prop_com_nome[prop_com_nome['nome_autor'].str.contains('Jair Bolsonaro')]['id'].count()))\n",
    "print('JEAN WYLLYS: {}'.format(prop_com_nome[prop_com_nome['nome_autor'].str.contains('Jean Wyllys')]['id'].count()))"
   ]
  }
 ],
 "metadata": {
  "colab": {
   "collapsed_sections": [],
   "name": "IMD0905 - Analise de dados dos Deputados.ipynb",
   "provenance": [],
   "version": "0.3.2"
  },
  "kernelspec": {
   "display_name": "Python 3",
   "language": "python",
   "name": "python3"
  },
  "language_info": {
   "codemirror_mode": {
    "name": "ipython",
    "version": 3
   },
   "file_extension": ".py",
   "mimetype": "text/x-python",
   "name": "python",
   "nbconvert_exporter": "python",
   "pygments_lexer": "ipython3",
   "version": "3.5.2"
  }
 },
 "nbformat": 4,
 "nbformat_minor": 1
}
