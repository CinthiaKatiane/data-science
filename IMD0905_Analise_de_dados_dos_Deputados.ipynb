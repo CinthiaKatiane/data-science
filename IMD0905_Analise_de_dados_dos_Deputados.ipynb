{
 "cells": [
  {
   "cell_type": "markdown",
   "metadata": {},
   "source": [
    "# Ciência de Dados\n",
    "\n",
    "### Grupo: Ailton Santos, Allan Gonçalves, Cinthia Katiane, Welligton Miguel"
   ]
  },
  {
   "cell_type": "markdown",
   "metadata": {},
   "source": [
    "Esse notebook faz análise dos dados do cenário político brasileiro, e tem como fonte de informação os dados abertos da câmara, disponível em https://dadosabertos.camara.leg.br. Os datasets utilizados aqui foram tratados e concatenados previamente para atender requisitos do trabalho, mas o script para isso está disponível no repo do GitHub. Para mais informações leia o README do projeto."
   ]
  },
  {
   "cell_type": "markdown",
   "metadata": {},
   "source": [
    "## 1. Primeiros Passos \n",
    "#### Fácil\n",
    "\n",
    "O ano de 2018 é um ano de eleições no Brasil e os eleitores podem usar muitas alternativas para escolher em quem vão votar, uma dessas alternativas é verificar a produtividade de um determinado político. Então é isso que vamos fazer nesse notebook. O primeiro passo é fazer o upload dos arquivos `proposicoes.csv`,`autores.csv` e `deputados.csv`, pois vamos usa-los em breve. \n",
    "\n",
    "Começe importando a biblioteca pandas e lendo o arquivo `proposicoes.csv`. Faça isso usando a função `read_csv()` do pandas. Em seguida liste as colunas desse dataframe.\n",
    "\n",
    "Quando tiver feito isso, execute a linha inferior e a função `head()` permitirá que você veja uma amostra dos dados desse dataframe, dê uma olhada nas informações de cada coluna e então vá para o próximo exercício."
   ]
  },
  {
   "cell_type": "code",
   "execution_count": null,
   "metadata": {},
   "outputs": [],
   "source": [
    "from google.colab import files\n",
    "uploaded = files.upload()\n",
    "for fn in uploaded.keys():\n",
    "  print('User uploaded file \"{name}\" with length {length} bytes'.format(\n",
    "      name=fn, length=len(uploaded[fn])))"
   ]
  },
  {
   "cell_type": "code",
   "execution_count": 3,
   "metadata": {
    "colab": {},
    "colab_type": "code",
    "id": "Dlk0X-svvAJ3"
   },
   "outputs": [],
   "source": [
    "import re\n",
    "import pandas as pd"
   ]
  },
  {
   "cell_type": "code",
   "execution_count": 6,
   "metadata": {},
   "outputs": [
    {
     "name": "stdout",
     "output_type": "stream",
     "text": [
      "Index(['Unnamed: 0', 'id', 'uri', 'siglaTipo', 'numero', 'ano', 'idTipo',\n",
      "       'descricaoTipo', 'ementa', 'ementaDetalhada', 'keywords',\n",
      "       'dataApresentacao', 'uriOrgaoNumerador', 'uriPropAnterior',\n",
      "       'uriPropPrincipal', 'uriPropPosterior', 'urlInteiroTeor', 'urnFinal',\n",
      "       'ultimoStatus_dataHora', 'ultimoStatus_sequencia',\n",
      "       'ultimoStatus_uriRelator', 'ultimoStatus_idOrgao',\n",
      "       'ultimoStatus_siglaOrgao', 'ultimoStatus_uriOrgao',\n",
      "       'ultimoStatus_regime', 'ultimoStatus_descricaoTramitacao',\n",
      "       'ultimoStatus_idTipoTramitacao', 'ultimoStatus_descricaoSituacao',\n",
      "       'ultimoStatus_idSituacao', 'ultimoStatus_despacho', 'ultimoStatus_url'],\n",
      "      dtype='object')\n"
     ]
    }
   ],
   "source": [
    "# Coloque seu codigo aqui\n",
    "\n",
    "df_proposicoes = pd.read_csv('proposicoes.csv', encoding='utf-8',low_memory=False)\n",
    "\n",
    "print(df_proposicoes.columns)"
   ]
  },
  {
   "cell_type": "code",
   "execution_count": 7,
   "metadata": {
    "colab": {
     "base_uri": "https://localhost:8080/",
     "height": 559
    },
    "colab_type": "code",
    "id": "t3EVoi8OvAKP",
    "outputId": "9d480e43-28cb-48e7-da46-5667a521cb38"
   },
   "outputs": [
    {
     "data": {
      "text/html": [
       "<div>\n",
       "<style scoped>\n",
       "    .dataframe tbody tr th:only-of-type {\n",
       "        vertical-align: middle;\n",
       "    }\n",
       "\n",
       "    .dataframe tbody tr th {\n",
       "        vertical-align: top;\n",
       "    }\n",
       "\n",
       "    .dataframe thead th {\n",
       "        text-align: right;\n",
       "    }\n",
       "</style>\n",
       "<table border=\"1\" class=\"dataframe\">\n",
       "  <thead>\n",
       "    <tr style=\"text-align: right;\">\n",
       "      <th></th>\n",
       "      <th>Unnamed: 0</th>\n",
       "      <th>id</th>\n",
       "      <th>uri</th>\n",
       "      <th>siglaTipo</th>\n",
       "      <th>numero</th>\n",
       "      <th>ano</th>\n",
       "      <th>idTipo</th>\n",
       "      <th>descricaoTipo</th>\n",
       "      <th>ementa</th>\n",
       "      <th>ementaDetalhada</th>\n",
       "      <th>...</th>\n",
       "      <th>ultimoStatus_idOrgao</th>\n",
       "      <th>ultimoStatus_siglaOrgao</th>\n",
       "      <th>ultimoStatus_uriOrgao</th>\n",
       "      <th>ultimoStatus_regime</th>\n",
       "      <th>ultimoStatus_descricaoTramitacao</th>\n",
       "      <th>ultimoStatus_idTipoTramitacao</th>\n",
       "      <th>ultimoStatus_descricaoSituacao</th>\n",
       "      <th>ultimoStatus_idSituacao</th>\n",
       "      <th>ultimoStatus_despacho</th>\n",
       "      <th>ultimoStatus_url</th>\n",
       "    </tr>\n",
       "  </thead>\n",
       "  <tbody>\n",
       "    <tr>\n",
       "      <th>0</th>\n",
       "      <td>0</td>\n",
       "      <td>865934.0</td>\n",
       "      <td>https://dadosabertos.camara.leg.br/api/v2/prop...</td>\n",
       "      <td>MPV</td>\n",
       "      <td>667</td>\n",
       "      <td>2015.0</td>\n",
       "      <td>291</td>\n",
       "      <td>Medida Provisória</td>\n",
       "      <td>Abre crédito extraordinário, em favor dos órgã...</td>\n",
       "      <td>NaN</td>\n",
       "      <td>...</td>\n",
       "      <td>101176.0</td>\n",
       "      <td>MPV66715</td>\n",
       "      <td>https://dadosabertos.camara.leg.br/api/v2/orga...</td>\n",
       "      <td>Urgência</td>\n",
       "      <td>Notificação - Pasta genérica</td>\n",
       "      <td>1002.0</td>\n",
       "      <td>Aguardando Recebimento</td>\n",
       "      <td>917.0</td>\n",
       "      <td>Of. 310/2015-CN comunica o término do prazo pa...</td>\n",
       "      <td>NaN</td>\n",
       "    </tr>\n",
       "    <tr>\n",
       "      <th>1</th>\n",
       "      <td>1</td>\n",
       "      <td>865959.0</td>\n",
       "      <td>https://dadosabertos.camara.leg.br/api/v2/prop...</td>\n",
       "      <td>PL</td>\n",
       "      <td>8328</td>\n",
       "      <td>2015.0</td>\n",
       "      <td>139</td>\n",
       "      <td>Projeto de Lei</td>\n",
       "      <td>Altera a Lei n° 10.098, de 19 de dezembro de 2...</td>\n",
       "      <td>Substitui a expressão \"pessoa portadora de def...</td>\n",
       "      <td>...</td>\n",
       "      <td>4.0</td>\n",
       "      <td>MESA</td>\n",
       "      <td>https://dadosabertos.camara.leg.br/api/v2/orga...</td>\n",
       "      <td>Urgência (Art. 155, RICD)</td>\n",
       "      <td>Arquivamento</td>\n",
       "      <td>502.0</td>\n",
       "      <td>Arquivada</td>\n",
       "      <td>923.0</td>\n",
       "      <td>Declarado prejudicado em face da aprovação da ...</td>\n",
       "      <td>NaN</td>\n",
       "    </tr>\n",
       "    <tr>\n",
       "      <th>2</th>\n",
       "      <td>2</td>\n",
       "      <td>865960.0</td>\n",
       "      <td>https://dadosabertos.camara.leg.br/api/v2/prop...</td>\n",
       "      <td>PL</td>\n",
       "      <td>8329</td>\n",
       "      <td>2015.0</td>\n",
       "      <td>139</td>\n",
       "      <td>Projeto de Lei</td>\n",
       "      <td>Altera a Lei n° 10.741, de 1° de outubro de 20...</td>\n",
       "      <td>NaN</td>\n",
       "      <td>...</td>\n",
       "      <td>180.0</td>\n",
       "      <td>PLEN</td>\n",
       "      <td>https://dadosabertos.camara.leg.br/api/v2/orga...</td>\n",
       "      <td>Prioridade (Art. 151, II, RICD)</td>\n",
       "      <td>Apresentação de Requerimento</td>\n",
       "      <td>194.0</td>\n",
       "      <td>Pronta para Pauta</td>\n",
       "      <td>924.0</td>\n",
       "      <td>Apresentação do Requerimento de Inclusão na Or...</td>\n",
       "      <td>http://www.camara.gov.br/proposicoesWeb/prop_m...</td>\n",
       "    </tr>\n",
       "    <tr>\n",
       "      <th>3</th>\n",
       "      <td>3</td>\n",
       "      <td>865961.0</td>\n",
       "      <td>https://dadosabertos.camara.leg.br/api/v2/prop...</td>\n",
       "      <td>PL</td>\n",
       "      <td>8330</td>\n",
       "      <td>2015.0</td>\n",
       "      <td>139</td>\n",
       "      <td>Projeto de Lei</td>\n",
       "      <td>Altera a Lei n° 11.340, de 7 de agosto de 2006...</td>\n",
       "      <td>NaN</td>\n",
       "      <td>...</td>\n",
       "      <td>2003.0</td>\n",
       "      <td>CCJC</td>\n",
       "      <td>https://dadosabertos.camara.leg.br/api/v2/orga...</td>\n",
       "      <td>Prioridade (Art. 151, II, RICD)</td>\n",
       "      <td>Designação de Relator</td>\n",
       "      <td>320.0</td>\n",
       "      <td>Aguardando Parecer</td>\n",
       "      <td>915.0</td>\n",
       "      <td>Designado Relator, Dep. Chico Alencar (PSOL-RJ)</td>\n",
       "      <td>NaN</td>\n",
       "    </tr>\n",
       "    <tr>\n",
       "      <th>4</th>\n",
       "      <td>4</td>\n",
       "      <td>865962.0</td>\n",
       "      <td>https://dadosabertos.camara.leg.br/api/v2/prop...</td>\n",
       "      <td>PL</td>\n",
       "      <td>8331</td>\n",
       "      <td>2015.0</td>\n",
       "      <td>139</td>\n",
       "      <td>Projeto de Lei</td>\n",
       "      <td>Altera a Lei n° 10.257, de 10 de julho de 2001...</td>\n",
       "      <td>NaN</td>\n",
       "      <td>...</td>\n",
       "      <td>2003.0</td>\n",
       "      <td>CCJC</td>\n",
       "      <td>https://dadosabertos.camara.leg.br/api/v2/orga...</td>\n",
       "      <td>Prioridade (Art. 151, II, RICD)</td>\n",
       "      <td>Parecer do Relator</td>\n",
       "      <td>322.0</td>\n",
       "      <td>Pronta para Pauta</td>\n",
       "      <td>924.0</td>\n",
       "      <td>Parecer do Relator, Dep. Fábio Sousa (PSDB-GO)...</td>\n",
       "      <td>http://www.camara.gov.br/proposicoesWeb/prop_m...</td>\n",
       "    </tr>\n",
       "  </tbody>\n",
       "</table>\n",
       "<p>5 rows × 31 columns</p>\n",
       "</div>"
      ],
      "text/plain": [
       "  Unnamed: 0        id                                                uri  \\\n",
       "0          0  865934.0  https://dadosabertos.camara.leg.br/api/v2/prop...   \n",
       "1          1  865959.0  https://dadosabertos.camara.leg.br/api/v2/prop...   \n",
       "2          2  865960.0  https://dadosabertos.camara.leg.br/api/v2/prop...   \n",
       "3          3  865961.0  https://dadosabertos.camara.leg.br/api/v2/prop...   \n",
       "4          4  865962.0  https://dadosabertos.camara.leg.br/api/v2/prop...   \n",
       "\n",
       "  siglaTipo numero     ano idTipo      descricaoTipo  \\\n",
       "0       MPV    667  2015.0    291  Medida Provisória   \n",
       "1        PL   8328  2015.0    139     Projeto de Lei   \n",
       "2        PL   8329  2015.0    139     Projeto de Lei   \n",
       "3        PL   8330  2015.0    139     Projeto de Lei   \n",
       "4        PL   8331  2015.0    139     Projeto de Lei   \n",
       "\n",
       "                                              ementa  \\\n",
       "0  Abre crédito extraordinário, em favor dos órgã...   \n",
       "1  Altera a Lei n° 10.098, de 19 de dezembro de 2...   \n",
       "2  Altera a Lei n° 10.741, de 1° de outubro de 20...   \n",
       "3  Altera a Lei n° 11.340, de 7 de agosto de 2006...   \n",
       "4  Altera a Lei n° 10.257, de 10 de julho de 2001...   \n",
       "\n",
       "                                     ementaDetalhada  \\\n",
       "0                                                NaN   \n",
       "1  Substitui a expressão \"pessoa portadora de def...   \n",
       "2                                                NaN   \n",
       "3                                                NaN   \n",
       "4                                                NaN   \n",
       "\n",
       "                         ...                         ultimoStatus_idOrgao  \\\n",
       "0                        ...                                     101176.0   \n",
       "1                        ...                                          4.0   \n",
       "2                        ...                                        180.0   \n",
       "3                        ...                                       2003.0   \n",
       "4                        ...                                       2003.0   \n",
       "\n",
       "  ultimoStatus_siglaOrgao                              ultimoStatus_uriOrgao  \\\n",
       "0                MPV66715  https://dadosabertos.camara.leg.br/api/v2/orga...   \n",
       "1                    MESA  https://dadosabertos.camara.leg.br/api/v2/orga...   \n",
       "2                    PLEN  https://dadosabertos.camara.leg.br/api/v2/orga...   \n",
       "3                    CCJC  https://dadosabertos.camara.leg.br/api/v2/orga...   \n",
       "4                    CCJC  https://dadosabertos.camara.leg.br/api/v2/orga...   \n",
       "\n",
       "               ultimoStatus_regime ultimoStatus_descricaoTramitacao  \\\n",
       "0                         Urgência     Notificação - Pasta genérica   \n",
       "1        Urgência (Art. 155, RICD)                     Arquivamento   \n",
       "2  Prioridade (Art. 151, II, RICD)     Apresentação de Requerimento   \n",
       "3  Prioridade (Art. 151, II, RICD)            Designação de Relator   \n",
       "4  Prioridade (Art. 151, II, RICD)               Parecer do Relator   \n",
       "\n",
       "  ultimoStatus_idTipoTramitacao ultimoStatus_descricaoSituacao  \\\n",
       "0                        1002.0         Aguardando Recebimento   \n",
       "1                         502.0                      Arquivada   \n",
       "2                         194.0              Pronta para Pauta   \n",
       "3                         320.0             Aguardando Parecer   \n",
       "4                         322.0              Pronta para Pauta   \n",
       "\n",
       "  ultimoStatus_idSituacao                              ultimoStatus_despacho  \\\n",
       "0                   917.0  Of. 310/2015-CN comunica o término do prazo pa...   \n",
       "1                   923.0  Declarado prejudicado em face da aprovação da ...   \n",
       "2                   924.0  Apresentação do Requerimento de Inclusão na Or...   \n",
       "3                   915.0    Designado Relator, Dep. Chico Alencar (PSOL-RJ)   \n",
       "4                   924.0  Parecer do Relator, Dep. Fábio Sousa (PSDB-GO)...   \n",
       "\n",
       "                                    ultimoStatus_url  \n",
       "0                                                NaN  \n",
       "1                                                NaN  \n",
       "2  http://www.camara.gov.br/proposicoesWeb/prop_m...  \n",
       "3                                                NaN  \n",
       "4  http://www.camara.gov.br/proposicoesWeb/prop_m...  \n",
       "\n",
       "[5 rows x 31 columns]"
      ]
     },
     "execution_count": 7,
     "metadata": {},
     "output_type": "execute_result"
    }
   ],
   "source": [
    "df_proposicoes.head()"
   ]
  },
  {
   "cell_type": "markdown",
   "metadata": {},
   "source": [
    "## 2. Formatando Colunas\n",
    "#### Médio\n",
    "\n",
    "Sabemos que um dos pontos fundamentais para que seja possível efetuar uma boa análise é o tratamento dos dados, desta forma, iremos padronizar as colunas em nosso dataset. Vemos que ele segue uma mistura nos parões CamelCase e snake_case, sendo assim, iremos torná-lo apenas snake_case.\n",
    "\n",
    "Desta forma deve ser realizado:\n",
    "\n",
    "1° Conversão de todas as colunas que se encontram no estilo camelCase para snake_case.\n",
    "\n",
    "2° Remover das colunas o nome `ultimo_status_`."
   ]
  },
  {
   "cell_type": "code",
   "execution_count": 8,
   "metadata": {},
   "outputs": [],
   "source": [
    "# Coloque seu codigo aqui\n",
    "\n",
    "#Forma 1\n",
    "def convert(name):\n",
    "    s1 = re.sub('(.)([A-Z][a-z]+)', r'\\1_\\2', name)\n",
    "    return re.sub('([a-z0-9])([A-Z])', r'\\1_\\2', s1).lower()\n",
    "\n",
    "#alterando o formato das colunas\n",
    "df_proposicoes.columns = [convert(column.split('ultimoStatus_')[-1]) for column in df_proposicoes.columns]\n",
    "\n",
    "\n",
    "#Forma 2\n",
    "def convert(name):\n",
    "    s1 = re.sub('(.)([A-Z][a-z]+)', r'\\1_\\2', name)\n",
    "    return re.sub('([a-z0-9])([A-Z])', r'\\1_\\2', s1).lower()\n",
    "\n",
    "#alterando o formato das colunas\n",
    "df_proposicoes.columns = [convert(column) for column in df_proposicoes.columns]\n",
    "df_proposicoes.columns = df_proposicoes.columns.str.replace(\"ultimo_status_\",\"\")"
   ]
  },
  {
   "cell_type": "code",
   "execution_count": 9,
   "metadata": {},
   "outputs": [
    {
     "data": {
      "text/plain": [
       "Index(['unnamed: 0', 'id', 'uri', 'sigla_tipo', 'numero', 'ano', 'id_tipo',\n",
       "       'descricao_tipo', 'ementa', 'ementa_detalhada', 'keywords',\n",
       "       'data_apresentacao', 'uri_orgao_numerador', 'uri_prop_anterior',\n",
       "       'uri_prop_principal', 'uri_prop_posterior', 'url_inteiro_teor',\n",
       "       'urn_final', 'data_hora', 'sequencia', 'uri_relator', 'id_orgao',\n",
       "       'sigla_orgao', 'uri_orgao', 'regime', 'descricao_tramitacao',\n",
       "       'id_tipo_tramitacao', 'descricao_situacao', 'id_situacao', 'despacho',\n",
       "       'url'],\n",
       "      dtype='object')"
      ]
     },
     "execution_count": 9,
     "metadata": {},
     "output_type": "execute_result"
    }
   ],
   "source": [
    "df_proposicoes.columns"
   ]
  },
  {
   "cell_type": "markdown",
   "metadata": {},
   "source": [
    "## 3. Removendo linhas desnecessárias\n",
    "#### Fácil\n",
    "\n",
    "Esse dataset possui muitas colunas, muitas mesmo, e boa parte delas não será útil para a nossa análise. Use a função `drop()` para remover as seguintes colunas:\n",
    "\n",
    "`'id_tipo',\n",
    " 'id_orgao',\n",
    " 'sigla_orgao',\n",
    " 'uri_orgao',\n",
    " 'descricao_tramitacao',\n",
    " 'id_tipo_tramitacao',\n",
    " 'id_situacao',\n",
    " 'data_apresentacao',\n",
    " 'uri_prop_posterior',\n",
    " 'url_inteiro_teor',\n",
    " 'urn_final',\n",
    " 'sequencia',\n",
    " 'uri_relator',\n",
    " 'uri_prop_principal',\n",
    " 'uri_prop_anterior',\n",
    " 'uri_orgao_numerador',\n",
    " 'uri'`\n",
    " \n",
    " Em seguida use a função `head()` novamente e veja como ficou o dataframe."
   ]
  },
  {
   "cell_type": "code",
   "execution_count": 10,
   "metadata": {
    "colab": {
     "base_uri": "https://localhost:8080/",
     "height": 5389
    },
    "colab_type": "code",
    "id": "x-TuEdbdvAKd",
    "outputId": "62b45751-4dab-4e60-df11-112fbd9cd020"
   },
   "outputs": [
    {
     "data": {
      "text/html": [
       "<div>\n",
       "<style scoped>\n",
       "    .dataframe tbody tr th:only-of-type {\n",
       "        vertical-align: middle;\n",
       "    }\n",
       "\n",
       "    .dataframe tbody tr th {\n",
       "        vertical-align: top;\n",
       "    }\n",
       "\n",
       "    .dataframe thead th {\n",
       "        text-align: right;\n",
       "    }\n",
       "</style>\n",
       "<table border=\"1\" class=\"dataframe\">\n",
       "  <thead>\n",
       "    <tr style=\"text-align: right;\">\n",
       "      <th></th>\n",
       "      <th>unnamed: 0</th>\n",
       "      <th>id</th>\n",
       "      <th>sigla_tipo</th>\n",
       "      <th>numero</th>\n",
       "      <th>ano</th>\n",
       "      <th>descricao_tipo</th>\n",
       "      <th>ementa</th>\n",
       "      <th>ementa_detalhada</th>\n",
       "      <th>keywords</th>\n",
       "      <th>data_hora</th>\n",
       "      <th>regime</th>\n",
       "      <th>descricao_situacao</th>\n",
       "      <th>despacho</th>\n",
       "      <th>url</th>\n",
       "    </tr>\n",
       "  </thead>\n",
       "  <tbody>\n",
       "    <tr>\n",
       "      <th>0</th>\n",
       "      <td>0</td>\n",
       "      <td>865934.0</td>\n",
       "      <td>MPV</td>\n",
       "      <td>667</td>\n",
       "      <td>2015.0</td>\n",
       "      <td>Medida Provisória</td>\n",
       "      <td>Abre crédito extraordinário, em favor dos órgã...</td>\n",
       "      <td>NaN</td>\n",
       "      <td>Crédito extraordinário, órgão público, Orçamen...</td>\n",
       "      <td>2015-08-05T00:00:00</td>\n",
       "      <td>Urgência</td>\n",
       "      <td>Aguardando Recebimento</td>\n",
       "      <td>Of. 310/2015-CN comunica o término do prazo pa...</td>\n",
       "      <td>NaN</td>\n",
       "    </tr>\n",
       "    <tr>\n",
       "      <th>1</th>\n",
       "      <td>1</td>\n",
       "      <td>865959.0</td>\n",
       "      <td>PL</td>\n",
       "      <td>8328</td>\n",
       "      <td>2015.0</td>\n",
       "      <td>Projeto de Lei</td>\n",
       "      <td>Altera a Lei n° 10.098, de 19 de dezembro de 2...</td>\n",
       "      <td>Substitui a expressão \"pessoa portadora de def...</td>\n",
       "      <td>Alteração, Lei da Acessibilidade, pessoa com d...</td>\n",
       "      <td>2015-03-05T00:00:00</td>\n",
       "      <td>Urgência (Art. 155, RICD)</td>\n",
       "      <td>Arquivada</td>\n",
       "      <td>Declarado prejudicado em face da aprovação da ...</td>\n",
       "      <td>NaN</td>\n",
       "    </tr>\n",
       "    <tr>\n",
       "      <th>2</th>\n",
       "      <td>2</td>\n",
       "      <td>865960.0</td>\n",
       "      <td>PL</td>\n",
       "      <td>8329</td>\n",
       "      <td>2015.0</td>\n",
       "      <td>Projeto de Lei</td>\n",
       "      <td>Altera a Lei n° 10.741, de 1° de outubro de 20...</td>\n",
       "      <td>NaN</td>\n",
       "      <td>Alteração, Estatuto do Idoso, gratuidade, idos...</td>\n",
       "      <td>2015-12-21T14:50:00</td>\n",
       "      <td>Prioridade (Art. 151, II, RICD)</td>\n",
       "      <td>Pronta para Pauta</td>\n",
       "      <td>Apresentação do Requerimento de Inclusão na Or...</td>\n",
       "      <td>http://www.camara.gov.br/proposicoesWeb/prop_m...</td>\n",
       "    </tr>\n",
       "    <tr>\n",
       "      <th>3</th>\n",
       "      <td>3</td>\n",
       "      <td>865961.0</td>\n",
       "      <td>PL</td>\n",
       "      <td>8330</td>\n",
       "      <td>2015.0</td>\n",
       "      <td>Projeto de Lei</td>\n",
       "      <td>Altera a Lei n° 11.340, de 7 de agosto de 2006...</td>\n",
       "      <td>NaN</td>\n",
       "      <td>Alteração, Lei Maria da Penha, garantia, benef...</td>\n",
       "      <td>2018-02-01T00:00:00</td>\n",
       "      <td>Prioridade (Art. 151, II, RICD)</td>\n",
       "      <td>Aguardando Parecer</td>\n",
       "      <td>Designado Relator, Dep. Chico Alencar (PSOL-RJ)</td>\n",
       "      <td>NaN</td>\n",
       "    </tr>\n",
       "    <tr>\n",
       "      <th>4</th>\n",
       "      <td>4</td>\n",
       "      <td>865962.0</td>\n",
       "      <td>PL</td>\n",
       "      <td>8331</td>\n",
       "      <td>2015.0</td>\n",
       "      <td>Projeto de Lei</td>\n",
       "      <td>Altera a Lei n° 10.257, de 10 de julho de 2001...</td>\n",
       "      <td>NaN</td>\n",
       "      <td>Alteração, Estatuto da Cidade, Lei da Acessibi...</td>\n",
       "      <td>2018-06-28T17:26:00</td>\n",
       "      <td>Prioridade (Art. 151, II, RICD)</td>\n",
       "      <td>Pronta para Pauta</td>\n",
       "      <td>Parecer do Relator, Dep. Fábio Sousa (PSDB-GO)...</td>\n",
       "      <td>http://www.camara.gov.br/proposicoesWeb/prop_m...</td>\n",
       "    </tr>\n",
       "  </tbody>\n",
       "</table>\n",
       "</div>"
      ],
      "text/plain": [
       "  unnamed: 0        id sigla_tipo numero     ano     descricao_tipo  \\\n",
       "0          0  865934.0        MPV    667  2015.0  Medida Provisória   \n",
       "1          1  865959.0         PL   8328  2015.0     Projeto de Lei   \n",
       "2          2  865960.0         PL   8329  2015.0     Projeto de Lei   \n",
       "3          3  865961.0         PL   8330  2015.0     Projeto de Lei   \n",
       "4          4  865962.0         PL   8331  2015.0     Projeto de Lei   \n",
       "\n",
       "                                              ementa  \\\n",
       "0  Abre crédito extraordinário, em favor dos órgã...   \n",
       "1  Altera a Lei n° 10.098, de 19 de dezembro de 2...   \n",
       "2  Altera a Lei n° 10.741, de 1° de outubro de 20...   \n",
       "3  Altera a Lei n° 11.340, de 7 de agosto de 2006...   \n",
       "4  Altera a Lei n° 10.257, de 10 de julho de 2001...   \n",
       "\n",
       "                                    ementa_detalhada  \\\n",
       "0                                                NaN   \n",
       "1  Substitui a expressão \"pessoa portadora de def...   \n",
       "2                                                NaN   \n",
       "3                                                NaN   \n",
       "4                                                NaN   \n",
       "\n",
       "                                            keywords            data_hora  \\\n",
       "0  Crédito extraordinário, órgão público, Orçamen...  2015-08-05T00:00:00   \n",
       "1  Alteração, Lei da Acessibilidade, pessoa com d...  2015-03-05T00:00:00   \n",
       "2  Alteração, Estatuto do Idoso, gratuidade, idos...  2015-12-21T14:50:00   \n",
       "3  Alteração, Lei Maria da Penha, garantia, benef...  2018-02-01T00:00:00   \n",
       "4  Alteração, Estatuto da Cidade, Lei da Acessibi...  2018-06-28T17:26:00   \n",
       "\n",
       "                            regime      descricao_situacao  \\\n",
       "0                         Urgência  Aguardando Recebimento   \n",
       "1        Urgência (Art. 155, RICD)               Arquivada   \n",
       "2  Prioridade (Art. 151, II, RICD)       Pronta para Pauta   \n",
       "3  Prioridade (Art. 151, II, RICD)      Aguardando Parecer   \n",
       "4  Prioridade (Art. 151, II, RICD)       Pronta para Pauta   \n",
       "\n",
       "                                            despacho  \\\n",
       "0  Of. 310/2015-CN comunica o término do prazo pa...   \n",
       "1  Declarado prejudicado em face da aprovação da ...   \n",
       "2  Apresentação do Requerimento de Inclusão na Or...   \n",
       "3    Designado Relator, Dep. Chico Alencar (PSOL-RJ)   \n",
       "4  Parecer do Relator, Dep. Fábio Sousa (PSDB-GO)...   \n",
       "\n",
       "                                                 url  \n",
       "0                                                NaN  \n",
       "1                                                NaN  \n",
       "2  http://www.camara.gov.br/proposicoesWeb/prop_m...  \n",
       "3                                                NaN  \n",
       "4  http://www.camara.gov.br/proposicoesWeb/prop_m...  "
      ]
     },
     "execution_count": 10,
     "metadata": {},
     "output_type": "execute_result"
    }
   ],
   "source": [
    "df_proposicoes = df_proposicoes.drop([\n",
    "    'id_tipo',\n",
    "    'id_orgao',\n",
    "    'sigla_orgao',\n",
    "    'uri_orgao',\n",
    "    'descricao_tramitacao',\n",
    "    'id_tipo_tramitacao',\n",
    "    'id_situacao',\n",
    "    'data_apresentacao',\n",
    "    'uri_prop_posterior',\n",
    "    'url_inteiro_teor',\n",
    "    'urn_final',\n",
    "    'sequencia',\n",
    "    'uri_relator',\n",
    "    'uri_prop_principal',\n",
    "    'uri_prop_anterior',\n",
    "    'uri_orgao_numerador',\n",
    "    'uri',\n",
    "], axis=1)\n",
    "df_proposicoes.head()"
   ]
  },
  {
   "cell_type": "markdown",
   "metadata": {},
   "source": [
    "## Métricas de Análise\n",
    "\n",
    "Agora que já efetuamos a padronização de colunas, onde possuimos apenas as informações necessárias para nossa análise, iremos partir para as estratégias, ou métricas(se preferir)\n",
    "\n",
    "Com elas iremos ter um alvo a atingir, seja qual deputado possui mais proposições até quantas proposições estão com situação \"prontas para pauta\".\n",
    "\n",
    "Sendo assim, hora de partir para a coleta..."
   ]
  },
  {
   "cell_type": "markdown",
   "metadata": {},
   "source": [
    "## 4. Métricas Quantitativas\n",
    "#### Médio\n",
    "\n",
    "Atualmente carregamos o csv contendo todas as proposições entre 2015 à 2018, desta forma faremos a seguinte análise:\n",
    "\n",
    "1. Identificar todas as proposições do tipo PL(Projetos de Lei) e adicionar a variável `pl_proposicoes`\n",
    "2. Após efetuada a separação das proposições do tipo PL, deveremos efetuar uma contagem de quantas PL foram realizadas em seus respectivos anos, com isso, deveremos adicionar o resultado a um dicionário `dict_pl_propocicoes_anos` onde o ano será a chave e a quantidade o valor"
   ]
  },
  {
   "cell_type": "code",
   "execution_count": 14,
   "metadata": {
    "colab": {
     "base_uri": "https://localhost:8080/",
     "height": 51
    },
    "colab_type": "code",
    "id": "ibiDk4v5vAKU",
    "outputId": "0374418b-4f40-40a0-868b-a5039f475af4"
   },
   "outputs": [],
   "source": [
    "pl_proposicoes = df_proposicoes[df_proposicoes['sigla_tipo']=='PL']\n"
   ]
  },
  {
   "cell_type": "code",
   "execution_count": 40,
   "metadata": {},
   "outputs": [],
   "source": [
    "def count_proposicoes_by_ano(pl_proposicoes, ano_inicial, ano_final):\n",
    "    dict_pl = dict()\n",
    "    while(ano_inicial <= ano_final):\n",
    "        dict_pl[ano_inicial] = pl_proposicoes[pl_proposicoes['ano']==ano_inicial][\"id\"].count()\n",
    "        ano_inicial+=1\n",
    "    return dict_pl\n",
    "\n",
    "\n",
    "dict_pl_propocicoes_anos = count_proposicoes_by_ano(pl_proposicoes,2015,2018)"
   ]
  },
  {
   "cell_type": "code",
   "execution_count": 41,
   "metadata": {
    "colab": {
     "base_uri": "https://localhost:8080/",
     "height": 34
    },
    "colab_type": "code",
    "id": "GX3NhJZ5vAKh",
    "outputId": "2a7b5932-dffa-485b-fb96-69aee9c3d5ff"
   },
   "outputs": [
    {
     "data": {
      "text/plain": [
       "{2015: 4262, 2016: 2532, 2017: 2675, 2018: 1377}"
      ]
     },
     "execution_count": 41,
     "metadata": {},
     "output_type": "execute_result"
    }
   ],
   "source": [
    "dict_pl_propocicoes_anos"
   ]
  },
  {
   "cell_type": "markdown",
   "metadata": {
    "colab_type": "text",
    "id": "wyx4r22IvAKm"
   },
   "source": [
    "## 5. Descobrindo os autores pt.1\n",
    "#### Fácil\n",
    "\n",
    "Agora que temos o dataframe com os projetos de lei, vamos descobrir quais foram os autores desses projetos. Para isso devemos:\n",
    "\n",
    "1. Ler o arquivo `autores.csv`\n",
    "2. Remova as colunas `'uri_proposicao'`,`'uri_partido_autor'` e `'id_autor'` desse dataframe\n",
    "3. Use `head()` para ver uma amostra dos dados desse dataframe"
   ]
  },
  {
   "cell_type": "code",
   "execution_count": 47,
   "metadata": {
    "colab": {},
    "colab_type": "code",
    "id": "gK26HsxNvAKs"
   },
   "outputs": [],
   "source": [
    "df_autores = pd.read_csv('autores.csv', encoding = 'utf-8') "
   ]
  },
  {
   "cell_type": "code",
   "execution_count": 48,
   "metadata": {
    "colab": {
     "base_uri": "https://localhost:8080/",
     "height": 3380
    },
    "colab_type": "code",
    "id": "w9oxhNItvAK7",
    "outputId": "97288117-c6b2-49cc-c830-bc8ab94157ee"
   },
   "outputs": [],
   "source": [
    "df_autores = df_autores.drop([\n",
    "    'uri_proposicao',\n",
    "    'uri_partido_autor',\n",
    "    'id_autor',\n",
    "], axis=1)"
   ]
  },
  {
   "cell_type": "code",
   "execution_count": 49,
   "metadata": {},
   "outputs": [
    {
     "data": {
      "text/html": [
       "<div>\n",
       "<style scoped>\n",
       "    .dataframe tbody tr th:only-of-type {\n",
       "        vertical-align: middle;\n",
       "    }\n",
       "\n",
       "    .dataframe tbody tr th {\n",
       "        vertical-align: top;\n",
       "    }\n",
       "\n",
       "    .dataframe thead th {\n",
       "        text-align: right;\n",
       "    }\n",
       "</style>\n",
       "<table border=\"1\" class=\"dataframe\">\n",
       "  <thead>\n",
       "    <tr style=\"text-align: right;\">\n",
       "      <th></th>\n",
       "      <th>Unnamed: 0</th>\n",
       "      <th>id_proposicao</th>\n",
       "      <th>uri_autor</th>\n",
       "      <th>cod_tipo_autor</th>\n",
       "      <th>tipo_autor</th>\n",
       "      <th>nome_autor</th>\n",
       "      <th>sigla_partido_autor</th>\n",
       "      <th>sigla_uf_autor</th>\n",
       "    </tr>\n",
       "  </thead>\n",
       "  <tbody>\n",
       "    <tr>\n",
       "      <th>0</th>\n",
       "      <td>0</td>\n",
       "      <td>2183806</td>\n",
       "      <td>https://dadosabertos.camara.leg.br/api/v2/orga...</td>\n",
       "      <td>40000</td>\n",
       "      <td>Órgão do Poder Legislativo</td>\n",
       "      <td>Senado Federal</td>\n",
       "      <td>NaN</td>\n",
       "      <td>NaN</td>\n",
       "    </tr>\n",
       "    <tr>\n",
       "      <th>1</th>\n",
       "      <td>1</td>\n",
       "      <td>2180385</td>\n",
       "      <td>https://dadosabertos.camara.leg.br/api/v2/orga...</td>\n",
       "      <td>40000</td>\n",
       "      <td>Órgão do Poder Legislativo</td>\n",
       "      <td>Senado Federal</td>\n",
       "      <td>NaN</td>\n",
       "      <td>NaN</td>\n",
       "    </tr>\n",
       "    <tr>\n",
       "      <th>2</th>\n",
       "      <td>2</td>\n",
       "      <td>2169419</td>\n",
       "      <td>https://dadosabertos.camara.leg.br/api/v2/orga...</td>\n",
       "      <td>40000</td>\n",
       "      <td>Órgão do Poder Legislativo</td>\n",
       "      <td>Senado Federal</td>\n",
       "      <td>NaN</td>\n",
       "      <td>NaN</td>\n",
       "    </tr>\n",
       "    <tr>\n",
       "      <th>3</th>\n",
       "      <td>3</td>\n",
       "      <td>2166883</td>\n",
       "      <td>https://dadosabertos.camara.leg.br/api/v2/orga...</td>\n",
       "      <td>40000</td>\n",
       "      <td>Órgão do Poder Legislativo</td>\n",
       "      <td>Senado Federal -Soraya Santos</td>\n",
       "      <td>PMDB</td>\n",
       "      <td>RJ</td>\n",
       "    </tr>\n",
       "    <tr>\n",
       "      <th>4</th>\n",
       "      <td>4</td>\n",
       "      <td>2166604</td>\n",
       "      <td>https://dadosabertos.camara.leg.br/api/v2/orga...</td>\n",
       "      <td>40000</td>\n",
       "      <td>Órgão do Poder Legislativo</td>\n",
       "      <td>Senado Federal</td>\n",
       "      <td>NaN</td>\n",
       "      <td>NaN</td>\n",
       "    </tr>\n",
       "  </tbody>\n",
       "</table>\n",
       "</div>"
      ],
      "text/plain": [
       "   Unnamed: 0  id_proposicao  \\\n",
       "0           0        2183806   \n",
       "1           1        2180385   \n",
       "2           2        2169419   \n",
       "3           3        2166883   \n",
       "4           4        2166604   \n",
       "\n",
       "                                           uri_autor  cod_tipo_autor  \\\n",
       "0  https://dadosabertos.camara.leg.br/api/v2/orga...           40000   \n",
       "1  https://dadosabertos.camara.leg.br/api/v2/orga...           40000   \n",
       "2  https://dadosabertos.camara.leg.br/api/v2/orga...           40000   \n",
       "3  https://dadosabertos.camara.leg.br/api/v2/orga...           40000   \n",
       "4  https://dadosabertos.camara.leg.br/api/v2/orga...           40000   \n",
       "\n",
       "                   tipo_autor                     nome_autor  \\\n",
       "0  Órgão do Poder Legislativo                 Senado Federal   \n",
       "1  Órgão do Poder Legislativo                 Senado Federal   \n",
       "2  Órgão do Poder Legislativo                 Senado Federal   \n",
       "3  Órgão do Poder Legislativo  Senado Federal -Soraya Santos   \n",
       "4  Órgão do Poder Legislativo                 Senado Federal   \n",
       "\n",
       "  sigla_partido_autor sigla_uf_autor  \n",
       "0                 NaN            NaN  \n",
       "1                 NaN            NaN  \n",
       "2                 NaN            NaN  \n",
       "3                PMDB             RJ  \n",
       "4                 NaN            NaN  "
      ]
     },
     "execution_count": 49,
     "metadata": {},
     "output_type": "execute_result"
    }
   ],
   "source": [
    "df_autores.head()"
   ]
  },
  {
   "cell_type": "markdown",
   "metadata": {
    "colab_type": "text",
    "id": "wyx4r22IvAKm"
   },
   "source": [
    "## 6. Descobrindo os autores pt.2\n",
    "#### Médio\n",
    "\n",
    "\n",
    "Agora que carregamos os altores das Proposições, poderemos efetuar uma analise mais refinada, sobre qual deputado efetuou quais propostas. No entanto nosso dataframe possui proposições que não partiram de um deputado, mas sim de outros orgão governamentais como Senado.\n",
    "\n",
    "Sendo assim, iremos filtrar os dados..."
   ]
  },
  {
   "cell_type": "markdown",
   "metadata": {
    "colab_type": "text",
    "id": "NDkTrxZwvALA"
   },
   "source": [
    "1. Filtrar proposições para encontrar apenas as que contém apenas deputados como autores\n",
    "2. Agrupar proposições por estados e partidos e ordenar por ordem alfabética(estados)\n",
    "\n",
    "obs: Ao realizar a filtragem, as colunas ***cod_tipo_autor*** e ***tipo_autor*** tornaram-se desnecessárias, visto que só continham um único valor, então podemos removê-las"
   ]
  },
  {
   "cell_type": "code",
   "execution_count": 50,
   "metadata": {
    "colab": {
     "base_uri": "https://localhost:8080/",
     "height": 1969
    },
    "colab_type": "code",
    "id": "iczg-BaovALA",
    "outputId": "ba8a33ee-bafb-4833-b6a7-f33f4339b92f"
   },
   "outputs": [
    {
     "data": {
      "text/html": [
       "<div>\n",
       "<style scoped>\n",
       "    .dataframe tbody tr th:only-of-type {\n",
       "        vertical-align: middle;\n",
       "    }\n",
       "\n",
       "    .dataframe tbody tr th {\n",
       "        vertical-align: top;\n",
       "    }\n",
       "\n",
       "    .dataframe thead th {\n",
       "        text-align: right;\n",
       "    }\n",
       "</style>\n",
       "<table border=\"1\" class=\"dataframe\">\n",
       "  <thead>\n",
       "    <tr style=\"text-align: right;\">\n",
       "      <th></th>\n",
       "      <th>Unnamed: 0</th>\n",
       "      <th>id_proposicao</th>\n",
       "      <th>uri_autor</th>\n",
       "      <th>cod_tipo_autor</th>\n",
       "      <th>tipo_autor</th>\n",
       "      <th>nome_autor</th>\n",
       "      <th>sigla_partido_autor</th>\n",
       "      <th>sigla_uf_autor</th>\n",
       "    </tr>\n",
       "  </thead>\n",
       "  <tbody>\n",
       "    <tr>\n",
       "      <th>6</th>\n",
       "      <td>6</td>\n",
       "      <td>2110932</td>\n",
       "      <td>https://dadosabertos.camara.leg.br/api/v2/depu...</td>\n",
       "      <td>10000</td>\n",
       "      <td>Deputado</td>\n",
       "      <td>Ricardo Barros</td>\n",
       "      <td>NaN</td>\n",
       "      <td>NaN</td>\n",
       "    </tr>\n",
       "    <tr>\n",
       "      <th>12</th>\n",
       "      <td>12</td>\n",
       "      <td>2081753</td>\n",
       "      <td>https://dadosabertos.camara.leg.br/api/v2/depu...</td>\n",
       "      <td>10000</td>\n",
       "      <td>Deputado</td>\n",
       "      <td>Alexandre Baldy</td>\n",
       "      <td>PTN</td>\n",
       "      <td>GO</td>\n",
       "    </tr>\n",
       "    <tr>\n",
       "      <th>67</th>\n",
       "      <td>67</td>\n",
       "      <td>2076239</td>\n",
       "      <td>https://dadosabertos.camara.leg.br/api/v2/depu...</td>\n",
       "      <td>10000</td>\n",
       "      <td>Deputado</td>\n",
       "      <td>Sergio Souza</td>\n",
       "      <td>PMDB</td>\n",
       "      <td>PR</td>\n",
       "    </tr>\n",
       "    <tr>\n",
       "      <th>74</th>\n",
       "      <td>74</td>\n",
       "      <td>2076210</td>\n",
       "      <td>https://dadosabertos.camara.leg.br/api/v2/depu...</td>\n",
       "      <td>10000</td>\n",
       "      <td>Deputado</td>\n",
       "      <td>Bruno Covas</td>\n",
       "      <td>PSDB</td>\n",
       "      <td>SP</td>\n",
       "    </tr>\n",
       "    <tr>\n",
       "      <th>75</th>\n",
       "      <td>75</td>\n",
       "      <td>2076209</td>\n",
       "      <td>https://dadosabertos.camara.leg.br/api/v2/depu...</td>\n",
       "      <td>10000</td>\n",
       "      <td>Deputado</td>\n",
       "      <td>Bruno Covas</td>\n",
       "      <td>PSDB</td>\n",
       "      <td>SP</td>\n",
       "    </tr>\n",
       "  </tbody>\n",
       "</table>\n",
       "</div>"
      ],
      "text/plain": [
       "    Unnamed: 0  id_proposicao  \\\n",
       "6            6        2110932   \n",
       "12          12        2081753   \n",
       "67          67        2076239   \n",
       "74          74        2076210   \n",
       "75          75        2076209   \n",
       "\n",
       "                                            uri_autor  cod_tipo_autor  \\\n",
       "6   https://dadosabertos.camara.leg.br/api/v2/depu...           10000   \n",
       "12  https://dadosabertos.camara.leg.br/api/v2/depu...           10000   \n",
       "67  https://dadosabertos.camara.leg.br/api/v2/depu...           10000   \n",
       "74  https://dadosabertos.camara.leg.br/api/v2/depu...           10000   \n",
       "75  https://dadosabertos.camara.leg.br/api/v2/depu...           10000   \n",
       "\n",
       "   tipo_autor       nome_autor sigla_partido_autor sigla_uf_autor  \n",
       "6    Deputado   Ricardo Barros                 NaN            NaN  \n",
       "12   Deputado  Alexandre Baldy                 PTN             GO  \n",
       "67   Deputado     Sergio Souza                PMDB             PR  \n",
       "74   Deputado      Bruno Covas                PSDB             SP  \n",
       "75   Deputado      Bruno Covas                PSDB             SP  "
      ]
     },
     "execution_count": 50,
     "metadata": {},
     "output_type": "execute_result"
    }
   ],
   "source": [
    "df_autores = df_autores[df_autores['cod_tipo_autor'] == 10000]\n",
    "df_autores.head()"
   ]
  },
  {
   "cell_type": "markdown",
   "metadata": {},
   "source": [
    "## Bônus \n",
    "\n",
    "Com a mostragem que efetuamos acima, iremos agora efetuar uma análise quantitativa em nosso estado(RN), para isso será necessário responder as seguintes perguntas:\n",
    "\n",
    "1. Quais deputados criaram Projetos de Lei Ordinária (PL)?\n",
    "2. Qual foi o deputado que mais propôs PLs?\n",
    "\n",
    "\n",
    "Dica: use o `value_counts()` para verificar quantas vezes o deputado é citado em nosso dataframe."
   ]
  },
  {
   "cell_type": "code",
   "execution_count": 53,
   "metadata": {
    "colab": {
     "base_uri": "https://localhost:8080/",
     "height": 170
    },
    "colab_type": "code",
    "id": "guxXOZquvALG",
    "outputId": "62772d63-3728-46b8-88ac-7adf53701124"
   },
   "outputs": [
    {
     "data": {
      "text/plain": [
       "array(['Walter Alves', 'Rafael Motta', 'Antônio Jácome', 'Zenaide Maia',\n",
       "       'Felipe Maia', 'Rogério Marinho', 'Beto Rosado', 'Fábio Faria'],\n",
       "      dtype=object)"
      ]
     },
     "execution_count": 53,
     "metadata": {},
     "output_type": "execute_result"
    }
   ],
   "source": [
    "df_autores_rn = df_autores[df_autores['sigla_uf_autor'] == 'RN']\n",
    "\n",
    "df_autores_rn['nome_autor'].unique()"
   ]
  },
  {
   "cell_type": "code",
   "execution_count": 56,
   "metadata": {},
   "outputs": [
    {
     "data": {
      "text/plain": [
       "Antônio Jácome     170\n",
       "Rafael Motta       150\n",
       "Beto Rosado        146\n",
       "Walter Alves       137\n",
       "Zenaide Maia       130\n",
       "Rogério Marinho    103\n",
       "Felipe Maia         91\n",
       "Fábio Faria         77\n",
       "Name: nome_autor, dtype: int64"
      ]
     },
     "execution_count": 56,
     "metadata": {},
     "output_type": "execute_result"
    }
   ],
   "source": [
    "df_autores_rn.nome_autor.value_counts()"
   ]
  },
  {
   "cell_type": "markdown",
   "metadata": {},
   "source": [
    "# Continuar ..."
   ]
  },
  {
   "cell_type": "code",
   "execution_count": null,
   "metadata": {
    "colab": {},
    "colab_type": "code",
    "id": "oiKwL8ycvAKZ"
   },
   "outputs": [],
   "source": [
    "df_deputados = pd.read_csv('deputados.csv', encoding = 'utf-8') "
   ]
  },
  {
   "cell_type": "code",
   "execution_count": null,
   "metadata": {
    "colab": {
     "base_uri": "https://localhost:8080/",
     "height": 1969
    },
    "colab_type": "code",
    "id": "69xROJl0vALP",
    "outputId": "be45090b-eb34-4011-d9f2-4ae1d9124856"
   },
   "outputs": [],
   "source": [
    "df_deputados = df_deputados[['uri', 'nomeCivil', 'siglaSexo', 'dataNascimento', 'ufNascimento']]\n",
    "df_deputados"
   ]
  },
  {
   "cell_type": "markdown",
   "metadata": {
    "colab_type": "text",
    "id": "kuWjhezAvALT"
   },
   "source": [
    "### Merge dos DataFrames de Autores e Deputados para coletar algumas informações que possam ser úteis, como:\n",
    "_UF de Nascimento do Candidato, Data de Nascimento, Nome Completo, Sexo_"
   ]
  },
  {
   "cell_type": "code",
   "execution_count": null,
   "metadata": {
    "colab": {
     "base_uri": "https://localhost:8080/",
     "height": 4114
    },
    "colab_type": "code",
    "id": "K602TpLyvALT",
    "outputId": "04489ae2-9a68-4c3d-b569-51e99c2168a3"
   },
   "outputs": [],
   "source": [
    "result = pd.merge(df_autores, df_deputados, left_on='uri_autor', right_on='uri', how='left')\n",
    "result"
   ]
  },
  {
   "cell_type": "code",
   "execution_count": null,
   "metadata": {
    "colab": {},
    "colab_type": "code",
    "id": "urdi-6Y_vALX"
   },
   "outputs": [],
   "source": [
    "result = result.drop(['uri_autor', 'uri'], axis=1)"
   ]
  },
  {
   "cell_type": "markdown",
   "metadata": {
    "colab_type": "text",
    "id": "gkD8PEr_zrVX"
   },
   "source": [
    "### Verificando se todas as proposições contém um autor que possa ser referenciado no DataFrame de autores"
   ]
  },
  {
   "cell_type": "code",
   "execution_count": null,
   "metadata": {
    "colab": {
     "base_uri": "https://localhost:8080/",
     "height": 34
    },
    "colab_type": "code",
    "id": "uwBP4Z4vvALa",
    "outputId": "b6209732-2e4d-426e-973b-9c10073848e5"
   },
   "outputs": [],
   "source": [
    "df['id'].count() == df[df['id'].isin(result['id_proposicao'])]['id'].count()"
   ]
  },
  {
   "cell_type": "markdown",
   "metadata": {
    "colab_type": "text",
    "id": "lT08zrazvALd"
   },
   "source": [
    "### Existem propostas que não contém um autor associado, vocês acham que devemos exclui-las?\n",
    "_Se sim, descomentem o código abaixo_"
   ]
  },
  {
   "cell_type": "code",
   "execution_count": null,
   "metadata": {
    "colab": {
     "base_uri": "https://localhost:8080/",
     "height": 5338
    },
    "colab_type": "code",
    "id": "rIniTJmBvALe",
    "outputId": "3bc4a78e-cf28-4373-f25f-f8cacffef113"
   },
   "outputs": [],
   "source": [
    "# df = df[df['id'].isin(df_autores['id_proposicao'])]\n",
    "# df"
   ]
  },
  {
   "cell_type": "markdown",
   "metadata": {
    "colab_type": "text",
    "id": "1zUWfuLivALg"
   },
   "source": [
    "### Comparação entre os horríveis"
   ]
  },
  {
   "cell_type": "code",
   "execution_count": null,
   "metadata": {
    "colab": {},
    "colab_type": "code",
    "id": "RSR0520RvALj"
   },
   "outputs": [],
   "source": [
    "prop_com_nome = df.merge(df_autores[['id_proposicao', 'nome_autor']], left_on='id', right_on='id_proposicao')"
   ]
  },
  {
   "cell_type": "code",
   "execution_count": null,
   "metadata": {
    "colab": {
     "base_uri": "https://localhost:8080/",
     "height": 51
    },
    "colab_type": "code",
    "id": "pZVtt1DYvALm",
    "outputId": "d1266410-a6fb-4d5a-f7a4-cbfe1307999f"
   },
   "outputs": [],
   "source": [
    "print('BOLSONARO: {}'.format(prop_com_nome[prop_com_nome['nome_autor'].str.contains('Jair Bolsonaro')]['id'].count()))\n",
    "print('JEAN WYLLYS: {}'.format(prop_com_nome[prop_com_nome['nome_autor'].str.contains('Jean Wyllys')]['id'].count()))"
   ]
  }
 ],
 "metadata": {
  "colab": {
   "collapsed_sections": [],
   "name": "IMD0905 - Analise de dados dos Deputados.ipynb",
   "provenance": [],
   "version": "0.3.2"
  },
  "kernelspec": {
   "display_name": "Python 3",
   "language": "python",
   "name": "python3"
  },
  "language_info": {
   "codemirror_mode": {
    "name": "ipython",
    "version": 3
   },
   "file_extension": ".py",
   "mimetype": "text/x-python",
   "name": "python",
   "nbconvert_exporter": "python",
   "pygments_lexer": "ipython3",
   "version": "3.5.2"
  }
 },
 "nbformat": 4,
 "nbformat_minor": 1
}
